{
 "cells": [
  {
   "cell_type": "code",
   "execution_count": 1,
   "id": "3fa868a3",
   "metadata": {},
   "outputs": [],
   "source": [
    "import pandas as pd\n",
    "import seaborn as sb\n",
    "import matplotlib.pyplot as plt\n",
    "from scipy.special import factorial\n",
    "import numpy as np\n",
    "import matplotlib as mpl"
   ]
  },
  {
   "cell_type": "code",
   "execution_count": 2,
   "id": "0a3df9fb",
   "metadata": {},
   "outputs": [],
   "source": [
    "mpl.rcParams[\"axes.grid\"] = True\n",
    "mpl.rcParams[\"axes.axisbelow\"] = True\n",
    "mpl.rcParams[\"figure.constrained_layout.use\"] = True\n",
    "mpl.rcParams[\"figure.frameon\"] = False\n",
    "mpl.rcParams[\"font.sans-serif\"] = [\"Lexend\"] + mpl.rcParams[\"font.sans-serif\"]\n",
    "mpl.rcParams[\"legend.framealpha\"] = 1.0\n",
    "mpl.rcParams[\"savefig.dpi\"] = 400"
   ]
  },
  {
   "cell_type": "code",
   "execution_count": 3,
   "id": "e50a7ee6",
   "metadata": {},
   "outputs": [],
   "source": [
    "df = pd.read_csv(\"data/combined.csv\")"
   ]
  },
  {
   "cell_type": "code",
   "execution_count": 4,
   "id": "f37cd36d",
   "metadata": {},
   "outputs": [
    {
     "data": {
      "text/html": [
       "<div>\n",
       "<style scoped>\n",
       "    .dataframe tbody tr th:only-of-type {\n",
       "        vertical-align: middle;\n",
       "    }\n",
       "\n",
       "    .dataframe tbody tr th {\n",
       "        vertical-align: top;\n",
       "    }\n",
       "\n",
       "    .dataframe thead th {\n",
       "        text-align: right;\n",
       "    }\n",
       "</style>\n",
       "<table border=\"1\" class=\"dataframe\">\n",
       "  <thead>\n",
       "    <tr style=\"text-align: right;\">\n",
       "      <th></th>\n",
       "      <th>Liga</th>\n",
       "      <th>Saison</th>\n",
       "      <th>Spieltag</th>\n",
       "      <th>Datum</th>\n",
       "      <th>Uhrzeit</th>\n",
       "      <th>Heim</th>\n",
       "      <th>Ergebnis</th>\n",
       "      <th>Gast</th>\n",
       "    </tr>\n",
       "  </thead>\n",
       "  <tbody>\n",
       "    <tr>\n",
       "      <th>0</th>\n",
       "      <td>2. Bundesliga</td>\n",
       "      <td>1981</td>\n",
       "      <td>1</td>\n",
       "      <td>Sa. 01.08.1981</td>\n",
       "      <td>15:00</td>\n",
       "      <td>FC Schalke 04</td>\n",
       "      <td>3:1</td>\n",
       "      <td>1860 München</td>\n",
       "    </tr>\n",
       "    <tr>\n",
       "      <th>1</th>\n",
       "      <td>2. Bundesliga</td>\n",
       "      <td>1981</td>\n",
       "      <td>1</td>\n",
       "      <td>Sa. 01.08.1981</td>\n",
       "      <td>15:00</td>\n",
       "      <td>Hannover 96</td>\n",
       "      <td>2:0</td>\n",
       "      <td>SC Freiburg</td>\n",
       "    </tr>\n",
       "    <tr>\n",
       "      <th>2</th>\n",
       "      <td>2. Bundesliga</td>\n",
       "      <td>1981</td>\n",
       "      <td>1</td>\n",
       "      <td>Sa. 01.08.1981</td>\n",
       "      <td>15:00</td>\n",
       "      <td>Union Solingen</td>\n",
       "      <td>1:1</td>\n",
       "      <td>Wattenscheid 09</td>\n",
       "    </tr>\n",
       "    <tr>\n",
       "      <th>3</th>\n",
       "      <td>2. Bundesliga</td>\n",
       "      <td>1981</td>\n",
       "      <td>1</td>\n",
       "      <td>Sa. 01.08.1981</td>\n",
       "      <td>15:00</td>\n",
       "      <td>Freiburger FC</td>\n",
       "      <td>2:0</td>\n",
       "      <td>Bayer 05</td>\n",
       "    </tr>\n",
       "    <tr>\n",
       "      <th>4</th>\n",
       "      <td>2. Bundesliga</td>\n",
       "      <td>1981</td>\n",
       "      <td>1</td>\n",
       "      <td>Sa. 01.08.1981</td>\n",
       "      <td>15:00</td>\n",
       "      <td>SpVgg Fürth</td>\n",
       "      <td>2:0</td>\n",
       "      <td>Hertha BSC</td>\n",
       "    </tr>\n",
       "  </tbody>\n",
       "</table>\n",
       "</div>"
      ],
      "text/plain": [
       "            Liga  Saison  Spieltag           Datum Uhrzeit            Heim  \\\n",
       "0  2. Bundesliga    1981         1  Sa. 01.08.1981   15:00   FC Schalke 04   \n",
       "1  2. Bundesliga    1981         1  Sa. 01.08.1981   15:00     Hannover 96   \n",
       "2  2. Bundesliga    1981         1  Sa. 01.08.1981   15:00  Union Solingen   \n",
       "3  2. Bundesliga    1981         1  Sa. 01.08.1981   15:00   Freiburger FC   \n",
       "4  2. Bundesliga    1981         1  Sa. 01.08.1981   15:00     SpVgg Fürth   \n",
       "\n",
       "  Ergebnis             Gast  \n",
       "0      3:1     1860 München  \n",
       "1      2:0      SC Freiburg  \n",
       "2      1:1  Wattenscheid 09  \n",
       "3      2:0         Bayer 05  \n",
       "4      2:0       Hertha BSC  "
      ]
     },
     "execution_count": 4,
     "metadata": {},
     "output_type": "execute_result"
    }
   ],
   "source": [
    "df.head()"
   ]
  },
  {
   "cell_type": "code",
   "execution_count": 5,
   "id": "3850e34a",
   "metadata": {},
   "outputs": [],
   "source": [
    "df[\"Heimtore\"] = df[\"Ergebnis\"].str.split(\":\").str[0].astype(int)\n",
    "df[\"Gasttore\"] = df[\"Ergebnis\"].str.split(\":\").str[1].astype(int)"
   ]
  },
  {
   "cell_type": "code",
   "execution_count": 6,
   "id": "467df2cb",
   "metadata": {},
   "outputs": [
    {
     "data": {
      "text/html": [
       "<div>\n",
       "<style scoped>\n",
       "    .dataframe tbody tr th:only-of-type {\n",
       "        vertical-align: middle;\n",
       "    }\n",
       "\n",
       "    .dataframe tbody tr th {\n",
       "        vertical-align: top;\n",
       "    }\n",
       "\n",
       "    .dataframe thead th {\n",
       "        text-align: right;\n",
       "    }\n",
       "</style>\n",
       "<table border=\"1\" class=\"dataframe\">\n",
       "  <thead>\n",
       "    <tr style=\"text-align: right;\">\n",
       "      <th></th>\n",
       "      <th>Liga</th>\n",
       "      <th>Saison</th>\n",
       "      <th>Spieltag</th>\n",
       "      <th>Datum</th>\n",
       "      <th>Uhrzeit</th>\n",
       "      <th>Heim</th>\n",
       "      <th>Ergebnis</th>\n",
       "      <th>Gast</th>\n",
       "      <th>Heimtore</th>\n",
       "      <th>Gasttore</th>\n",
       "    </tr>\n",
       "  </thead>\n",
       "  <tbody>\n",
       "    <tr>\n",
       "      <th>0</th>\n",
       "      <td>2. Bundesliga</td>\n",
       "      <td>1981</td>\n",
       "      <td>1</td>\n",
       "      <td>Sa. 01.08.1981</td>\n",
       "      <td>15:00</td>\n",
       "      <td>FC Schalke 04</td>\n",
       "      <td>3:1</td>\n",
       "      <td>1860 München</td>\n",
       "      <td>3</td>\n",
       "      <td>1</td>\n",
       "    </tr>\n",
       "    <tr>\n",
       "      <th>1</th>\n",
       "      <td>2. Bundesliga</td>\n",
       "      <td>1981</td>\n",
       "      <td>1</td>\n",
       "      <td>Sa. 01.08.1981</td>\n",
       "      <td>15:00</td>\n",
       "      <td>Hannover 96</td>\n",
       "      <td>2:0</td>\n",
       "      <td>SC Freiburg</td>\n",
       "      <td>2</td>\n",
       "      <td>0</td>\n",
       "    </tr>\n",
       "    <tr>\n",
       "      <th>2</th>\n",
       "      <td>2. Bundesliga</td>\n",
       "      <td>1981</td>\n",
       "      <td>1</td>\n",
       "      <td>Sa. 01.08.1981</td>\n",
       "      <td>15:00</td>\n",
       "      <td>Union Solingen</td>\n",
       "      <td>1:1</td>\n",
       "      <td>Wattenscheid 09</td>\n",
       "      <td>1</td>\n",
       "      <td>1</td>\n",
       "    </tr>\n",
       "    <tr>\n",
       "      <th>3</th>\n",
       "      <td>2. Bundesliga</td>\n",
       "      <td>1981</td>\n",
       "      <td>1</td>\n",
       "      <td>Sa. 01.08.1981</td>\n",
       "      <td>15:00</td>\n",
       "      <td>Freiburger FC</td>\n",
       "      <td>2:0</td>\n",
       "      <td>Bayer 05</td>\n",
       "      <td>2</td>\n",
       "      <td>0</td>\n",
       "    </tr>\n",
       "    <tr>\n",
       "      <th>4</th>\n",
       "      <td>2. Bundesliga</td>\n",
       "      <td>1981</td>\n",
       "      <td>1</td>\n",
       "      <td>Sa. 01.08.1981</td>\n",
       "      <td>15:00</td>\n",
       "      <td>SpVgg Fürth</td>\n",
       "      <td>2:0</td>\n",
       "      <td>Hertha BSC</td>\n",
       "      <td>2</td>\n",
       "      <td>0</td>\n",
       "    </tr>\n",
       "  </tbody>\n",
       "</table>\n",
       "</div>"
      ],
      "text/plain": [
       "            Liga  Saison  Spieltag           Datum Uhrzeit            Heim  \\\n",
       "0  2. Bundesliga    1981         1  Sa. 01.08.1981   15:00   FC Schalke 04   \n",
       "1  2. Bundesliga    1981         1  Sa. 01.08.1981   15:00     Hannover 96   \n",
       "2  2. Bundesliga    1981         1  Sa. 01.08.1981   15:00  Union Solingen   \n",
       "3  2. Bundesliga    1981         1  Sa. 01.08.1981   15:00   Freiburger FC   \n",
       "4  2. Bundesliga    1981         1  Sa. 01.08.1981   15:00     SpVgg Fürth   \n",
       "\n",
       "  Ergebnis             Gast  Heimtore  Gasttore  \n",
       "0      3:1     1860 München         3         1  \n",
       "1      2:0      SC Freiburg         2         0  \n",
       "2      1:1  Wattenscheid 09         1         1  \n",
       "3      2:0         Bayer 05         2         0  \n",
       "4      2:0       Hertha BSC         2         0  "
      ]
     },
     "execution_count": 6,
     "metadata": {},
     "output_type": "execute_result"
    }
   ],
   "source": [
    "df.head()"
   ]
  },
  {
   "cell_type": "code",
   "execution_count": 7,
   "id": "11dbacff",
   "metadata": {},
   "outputs": [
    {
     "name": "stdout",
     "output_type": "stream",
     "text": [
      "1.7626230692801013 : 1.1957667178514437\n"
     ]
    }
   ],
   "source": [
    "l_home = df[\"Heimtore\"].mean()\n",
    "l_away = df[\"Gasttore\"].mean()\n",
    "\n",
    "print(l_home, \":\", l_away)"
   ]
  },
  {
   "cell_type": "code",
   "execution_count": 8,
   "id": "69a41c8d",
   "metadata": {},
   "outputs": [
    {
     "data": {
      "text/plain": [
       "0    1:1\n",
       "Name: Ergebnis, dtype: object"
      ]
     },
     "execution_count": 8,
     "metadata": {},
     "output_type": "execute_result"
    }
   ],
   "source": [
    "df[\"Ergebnis\"].mode()"
   ]
  },
  {
   "cell_type": "code",
   "execution_count": 9,
   "id": "342cfa83",
   "metadata": {},
   "outputs": [
    {
     "data": {
      "image/png": "[encoded data removed]",
      "text/plain": [
       "<Figure size 640x480 with 1 Axes>"
      ]
     },
     "metadata": {},
     "output_type": "display_data"
    }
   ],
   "source": [
    "top_scores = df[\"Ergebnis\"].value_counts().head(10)\n",
    "\n",
    "sb.barplot(top_scores)\n",
    "\n",
    "plt.ylabel(\"Anzahl\");"
   ]
  },
  {
   "cell_type": "code",
   "execution_count": 10,
   "id": "b93691c2",
   "metadata": {},
   "outputs": [],
   "source": [
    "def poisson(k, l=1.0):\n",
    "    return l**k / factorial(k, exact=True) * np.exp(-l)"
   ]
  },
  {
   "cell_type": "code",
   "execution_count": 11,
   "id": "2f4d0a63",
   "metadata": {},
   "outputs": [
    {
     "data": {
      "image/png": "[encoded data removed]",
      "text/plain": [
       "<Figure size 640x480 with 1 Axes>"
      ]
     },
     "metadata": {},
     "output_type": "display_data"
    }
   ],
   "source": [
    "N = 8\n",
    "\n",
    "home_scores = df[\"Heimtore\"].value_counts().head(N)\n",
    "home_scores = home_scores.reset_index()\n",
    "home_scores.columns = [\"Tore\", \"Anzahl\"]\n",
    "home_scores[\"Anteil\"] = home_scores[\"Anzahl\"] / home_scores[\"Anzahl\"].sum()\n",
    "home_scores[\"Team\"] = \"Heim\"\n",
    "\n",
    "away_scores = df[\"Gasttore\"].value_counts().head(N)\n",
    "away_scores = away_scores.reset_index()\n",
    "away_scores.columns = [\"Tore\", \"Anzahl\"]\n",
    "away_scores[\"Anteil\"] = away_scores[\"Anzahl\"] / away_scores[\"Anzahl\"].sum()\n",
    "away_scores[\"Team\"] = \"Gast\"\n",
    "\n",
    "scores = pd.concat((home_scores, away_scores))\n",
    "\n",
    "sb.barplot(scores, x=\"Tore\", y=\"Anteil\", hue=\"Team\")\n",
    "\n",
    "k_list = np.arange(0, N, 1, dtype=int)\n",
    "plt.plot(k_list, poisson(k_list, l_home), color=\"grey\")\n",
    "plt.plot(k_list, poisson(k_list, l_away), color=\"grey\");\n",
    "\n",
    "# plt.yscale(\"log\");"
   ]
  }
 ],
 "metadata": {
  "kernelspec": {
   "display_name": "Python 3",
   "language": "python",
   "name": "python3"
  },
  "language_info": {
   "codemirror_mode": {
    "name": "ipython",
    "version": 3
   },
   "file_extension": ".py",
   "mimetype": "text/x-python",
   "name": "python",
   "nbconvert_exporter": "python",
   "pygments_lexer": "ipython3",
   "version": "3.13.2"
  }
 },
 "nbformat": 4,
 "nbformat_minor": 5
}
