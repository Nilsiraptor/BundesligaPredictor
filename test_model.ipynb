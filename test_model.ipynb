{
 "cells": [
  {
   "cell_type": "code",
   "execution_count": 1,
   "id": "0d647f4d",
   "metadata": {},
   "outputs": [],
   "source": [
    "from classes import Team\n",
    "\n",
    "from itertools import product\n",
    "\n",
    "import pandas as pd\n",
    "import numpy as np\n",
    "from scipy.special import factorial\n",
    "import matplotlib.pyplot as plt\n",
    "from matplotlib.colors import LogNorm\n",
    "import matplotlib as mpl"
   ]
  },
  {
   "cell_type": "code",
   "execution_count": 2,
   "id": "e15e308a",
   "metadata": {},
   "outputs": [],
   "source": [
    "names = {\n",
    "    \"FCB\": \"Bayern München\",\n",
    "    \"B04\": \"B. Leverkusen\",\n",
    "    \"SGE\": \"E. Frankfurt\",\n",
    "    \"BVB\": \"Bor. Dortmund\",\n",
    "    \"SCF\": \"SC Freiburg\",\n",
    "    \"M05\": \"1.FSV Mainz 05\",\n",
    "    \"RBL\": \"RB Leipzig\",\n",
    "    \"SVW\": \"Werder Bremen\",\n",
    "    \"VFB\": \"VfB Stuttgart\",\n",
    "    \"BMG\": \"Bor. M'gladbach\",\n",
    "    \"WOB\": \"VfL Wolfsburg\",\n",
    "    \"FCA\": \"FC Augsburg\",\n",
    "    \"FCU\": \"Union Berlin\",\n",
    "    \"STP\": \"FC St. Pauli\",\n",
    "    \"TSG\": \"TSG Hoffenheim\",\n",
    "    \"HDH\": \"1.FC Heidenheim\",\n",
    "    \"KOE\": \"1.FC Köln\",\n",
    "    \"HSV\": \"Hamburger SV\",\n",
    "    \"BSC\": \"Hertha BSC\"\n",
    "}"
   ]
  },
  {
   "cell_type": "code",
   "execution_count": 3,
   "id": "4dfa0fdf",
   "metadata": {},
   "outputs": [],
   "source": [
    "home_team = names[\"BSC\"]\n",
    "away_team = \"F. Düsseldorf\""
   ]
  },
  {
   "cell_type": "code",
   "execution_count": 4,
   "id": "767193e3",
   "metadata": {},
   "outputs": [],
   "source": [
    "l_home, l_away = 1.7626230692801013, 1.1957667178514437"
   ]
  },
  {
   "cell_type": "code",
   "execution_count": 5,
   "id": "d4a245ed",
   "metadata": {},
   "outputs": [],
   "source": [
    "mpl.rcParams[\"axes.axisbelow\"] = True\n",
    "mpl.rcParams[\"figure.constrained_layout.use\"] = True\n",
    "mpl.rcParams[\"figure.frameon\"] = False\n",
    "mpl.rcParams[\"font.sans-serif\"] = [\"Lexend\"] + mpl.rcParams[\"font.sans-serif\"]\n",
    "mpl.rcParams[\"legend.framealpha\"] = 1.0"
   ]
  },
  {
   "cell_type": "code",
   "execution_count": 6,
   "id": "654b890d",
   "metadata": {},
   "outputs": [
    {
     "data": {
      "text/html": [
       "<div>\n",
       "<style scoped>\n",
       "    .dataframe tbody tr th:only-of-type {\n",
       "        vertical-align: middle;\n",
       "    }\n",
       "\n",
       "    .dataframe tbody tr th {\n",
       "        vertical-align: top;\n",
       "    }\n",
       "\n",
       "    .dataframe thead th {\n",
       "        text-align: right;\n",
       "    }\n",
       "</style>\n",
       "<table border=\"1\" class=\"dataframe\">\n",
       "  <thead>\n",
       "    <tr style=\"text-align: right;\">\n",
       "      <th></th>\n",
       "      <th>name</th>\n",
       "      <th>attack</th>\n",
       "      <th>defense</th>\n",
       "    </tr>\n",
       "  </thead>\n",
       "  <tbody>\n",
       "    <tr>\n",
       "      <th>0</th>\n",
       "      <td>Bayern München</td>\n",
       "      <td>27.142971</td>\n",
       "      <td>18.780026</td>\n",
       "    </tr>\n",
       "    <tr>\n",
       "      <th>1</th>\n",
       "      <td>Bor. Dortmund</td>\n",
       "      <td>18.953161</td>\n",
       "      <td>14.971579</td>\n",
       "    </tr>\n",
       "    <tr>\n",
       "      <th>2</th>\n",
       "      <td>B. Leverkusen</td>\n",
       "      <td>18.197509</td>\n",
       "      <td>14.736681</td>\n",
       "    </tr>\n",
       "    <tr>\n",
       "      <th>3</th>\n",
       "      <td>VfB Stuttgart</td>\n",
       "      <td>15.140380</td>\n",
       "      <td>12.966729</td>\n",
       "    </tr>\n",
       "    <tr>\n",
       "      <th>4</th>\n",
       "      <td>E. Frankfurt</td>\n",
       "      <td>17.943231</td>\n",
       "      <td>9.737090</td>\n",
       "    </tr>\n",
       "    <tr>\n",
       "      <th>5</th>\n",
       "      <td>RB Leipzig</td>\n",
       "      <td>12.066892</td>\n",
       "      <td>14.065861</td>\n",
       "    </tr>\n",
       "    <tr>\n",
       "      <th>6</th>\n",
       "      <td>1.FSV Mainz 05</td>\n",
       "      <td>10.176374</td>\n",
       "      <td>11.498641</td>\n",
       "    </tr>\n",
       "    <tr>\n",
       "      <th>7</th>\n",
       "      <td>Werder Bremen</td>\n",
       "      <td>11.676683</td>\n",
       "      <td>9.263560</td>\n",
       "    </tr>\n",
       "    <tr>\n",
       "      <th>8</th>\n",
       "      <td>SC Freiburg</td>\n",
       "      <td>9.765116</td>\n",
       "      <td>10.421537</td>\n",
       "    </tr>\n",
       "    <tr>\n",
       "      <th>9</th>\n",
       "      <td>TSG Hoffenheim</td>\n",
       "      <td>12.529587</td>\n",
       "      <td>6.617494</td>\n",
       "    </tr>\n",
       "    <tr>\n",
       "      <th>10</th>\n",
       "      <td>VfL Wolfsburg</td>\n",
       "      <td>8.550832</td>\n",
       "      <td>9.461826</td>\n",
       "    </tr>\n",
       "    <tr>\n",
       "      <th>11</th>\n",
       "      <td>Bor. M'gladbach</td>\n",
       "      <td>9.732460</td>\n",
       "      <td>6.732629</td>\n",
       "    </tr>\n",
       "    <tr>\n",
       "      <th>12</th>\n",
       "      <td>FC Augsburg</td>\n",
       "      <td>6.877725</td>\n",
       "      <td>9.556206</td>\n",
       "    </tr>\n",
       "    <tr>\n",
       "      <th>13</th>\n",
       "      <td>Hamburger SV</td>\n",
       "      <td>9.551963</td>\n",
       "      <td>6.334538</td>\n",
       "    </tr>\n",
       "    <tr>\n",
       "      <th>14</th>\n",
       "      <td>Union Berlin</td>\n",
       "      <td>5.676522</td>\n",
       "      <td>9.919323</td>\n",
       "    </tr>\n",
       "    <tr>\n",
       "      <th>15</th>\n",
       "      <td>SV Elversberg</td>\n",
       "      <td>7.352591</td>\n",
       "      <td>7.661068</td>\n",
       "    </tr>\n",
       "    <tr>\n",
       "      <th>16</th>\n",
       "      <td>FC St. Pauli</td>\n",
       "      <td>2.086691</td>\n",
       "      <td>12.531690</td>\n",
       "    </tr>\n",
       "    <tr>\n",
       "      <th>17</th>\n",
       "      <td>1.FC Köln</td>\n",
       "      <td>3.874360</td>\n",
       "      <td>9.431091</td>\n",
       "    </tr>\n",
       "  </tbody>\n",
       "</table>\n",
       "</div>"
      ],
      "text/plain": [
       "               name     attack    defense\n",
       "0    Bayern München  27.142971  18.780026\n",
       "1     Bor. Dortmund  18.953161  14.971579\n",
       "2     B. Leverkusen  18.197509  14.736681\n",
       "3     VfB Stuttgart  15.140380  12.966729\n",
       "4      E. Frankfurt  17.943231   9.737090\n",
       "5        RB Leipzig  12.066892  14.065861\n",
       "6    1.FSV Mainz 05  10.176374  11.498641\n",
       "7     Werder Bremen  11.676683   9.263560\n",
       "8       SC Freiburg   9.765116  10.421537\n",
       "9    TSG Hoffenheim  12.529587   6.617494\n",
       "10    VfL Wolfsburg   8.550832   9.461826\n",
       "11  Bor. M'gladbach   9.732460   6.732629\n",
       "12      FC Augsburg   6.877725   9.556206\n",
       "13     Hamburger SV   9.551963   6.334538\n",
       "14     Union Berlin   5.676522   9.919323\n",
       "15    SV Elversberg   7.352591   7.661068\n",
       "16     FC St. Pauli   2.086691  12.531690\n",
       "17        1.FC Köln   3.874360   9.431091"
      ]
     },
     "execution_count": 6,
     "metadata": {},
     "output_type": "execute_result"
    }
   ],
   "source": [
    "df = pd.read_csv(\"model.csv\")\n",
    "df.head(18)"
   ]
  },
  {
   "cell_type": "code",
   "execution_count": 7,
   "id": "154df8da",
   "metadata": {},
   "outputs": [],
   "source": [
    "teams = {}\n",
    "for index, row in df.iterrows():\n",
    "    name = row[\"name\"]\n",
    "    att = row[\"attack\"]\n",
    "    dfe = row[\"defense\"]\n",
    "\n",
    "    teams[name] = Team(name, att, dfe)"
   ]
  },
  {
   "cell_type": "code",
   "execution_count": 8,
   "id": "1d73250f",
   "metadata": {},
   "outputs": [
    {
     "name": "stdout",
     "output_type": "stream",
     "text": [
      "2.020884511731797 1.1496085151468642\n"
     ]
    }
   ],
   "source": [
    "prediction = teams[home_team].match(teams[away_team], l_home, l_away)\n",
    "\n",
    "print(*prediction)"
   ]
  },
  {
   "cell_type": "code",
   "execution_count": 9,
   "id": "2fcd911b",
   "metadata": {},
   "outputs": [],
   "source": [
    "def poisson(k, l):\n",
    "    return l**k / factorial(k, exact=True) * np.exp(-l)"
   ]
  },
  {
   "cell_type": "code",
   "execution_count": 10,
   "id": "a20ad1e6",
   "metadata": {},
   "outputs": [
    {
     "name": "stdout",
     "output_type": "stream",
     "text": [
      "57.5% 21.3% 21.2%\n"
     ]
    }
   ],
   "source": [
    "p = teams[home_team].calculate_win_probabilities(teams[away_team], l_home, l_away)\n",
    "\n",
    "print(*[f\"{100*r:.3}%\" for r in p])"
   ]
  },
  {
   "cell_type": "code",
   "execution_count": 11,
   "id": "4d36bb7f",
   "metadata": {},
   "outputs": [],
   "source": [
    "results = []\n",
    "for h, a in product(range(0, 6), repeat=2):\n",
    "    results.append((h, a, poisson(h, prediction[0])*poisson(a, prediction[1])))"
   ]
  },
  {
   "cell_type": "code",
   "execution_count": 12,
   "id": "ed4c3dd8",
   "metadata": {},
   "outputs": [],
   "source": [
    "results.sort(key=lambda x: x[-1], reverse=True)"
   ]
  },
  {
   "cell_type": "code",
   "execution_count": 13,
   "id": "05e241b6",
   "metadata": {},
   "outputs": [
    {
     "name": "stdout",
     "output_type": "stream",
     "text": [
      "2:1  9.86%\n",
      "1:1  9.75%\n",
      "2:0  8.57%\n",
      "1:0  8.48%\n",
      "3:1  6.64%\n",
      "3:0  5.77%\n",
      "2:2  5.66%\n",
      "1:2  5.61%\n",
      "0:1  4.83%\n",
      "0:0  4.2%\n"
     ]
    }
   ],
   "source": [
    "print(*[f\"{r[0]}:{r[1]}  {100*r[2]:.3}%\" for r in results[:10]], sep=\"\\n\")"
   ]
  },
  {
   "cell_type": "code",
   "execution_count": 14,
   "id": "f842500c",
   "metadata": {},
   "outputs": [
    {
     "data": {
      "image/png": "[encoded data removed]",
      "text/plain": [
       "<Figure size 500x413.5 with 2 Axes>"
      ]
     },
     "metadata": {},
     "output_type": "display_data"
    }
   ],
   "source": [
    "teams[home_team].show_probability_distribution(teams[away_team], l_home ,l_away, save=True)"
   ]
  },
  {
   "cell_type": "code",
   "execution_count": 15,
   "id": "1f7d0443",
   "metadata": {},
   "outputs": [],
   "source": [
    "N = 5\n",
    "M = 6\n",
    "\n",
    "results = np.zeros((M, M))\n",
    "\n",
    "for i in range(M):\n",
    "    for j in range(M):\n",
    "        results[i, j] = poisson(i, prediction[0])*poisson(j, prediction[1])\n",
    "\n",
    "points = np.zeros((N, N))\n",
    "point_list = []\n",
    "\n",
    "for i in range(N):\n",
    "    for j in range(N):\n",
    "        poi = np.zeros((M, M))\n",
    "        for a in range(M):\n",
    "            for b in range(M):\n",
    "                if i == a and j == b:\n",
    "                    poi[a, b] = 4\n",
    "                elif (i-j) == (a-b):\n",
    "                    poi[a, b] = 3\n",
    "                elif i > j and a > b:\n",
    "                    poi[a, b] = 2\n",
    "                elif i < j and a < b:\n",
    "                    poi[a, b] = 2\n",
    "\n",
    "        points[i, j] = np.sum(results * poi)\n",
    "        point_list.append((i, j, np.sum(results * poi)))"
   ]
  },
  {
   "cell_type": "code",
   "execution_count": 16,
   "id": "00fcee45",
   "metadata": {},
   "outputs": [
    {
     "data": {
      "image/png": "[encoded data removed]",
      "text/plain": [
       "<Figure size 640x480 with 2 Axes>"
      ]
     },
     "metadata": {},
     "output_type": "display_data"
    }
   ],
   "source": [
    "heatmap = plt.imshow(points, cmap='plasma', origin=\"lower\")\n",
    "cb = plt.colorbar(heatmap, label='Expected Points')\n",
    "\n",
    "font_props = {\"ha\": \"center\",\n",
    "              \"va\": \"center\",\n",
    "              \"color\": \"g\"}\n",
    "\n",
    "for i in range(N):\n",
    "    for j in range(N):\n",
    "        plt.text(j, i, f'{i} : {j}', **font_props)\n",
    "\n",
    "plt.show()"
   ]
  },
  {
   "cell_type": "code",
   "execution_count": 17,
   "id": "c6413473",
   "metadata": {},
   "outputs": [
    {
     "name": "stdout",
     "output_type": "stream",
     "text": [
      "2:1  1.444\n",
      "1:0  1.43\n",
      "3:2  1.384\n",
      "2:0  1.376\n",
      "3:1  1.356\n",
      "4:3  1.353\n",
      "4:2  1.309\n",
      "3:0  1.272\n",
      "4:1  1.248\n",
      "4:0  1.187\n"
     ]
    }
   ],
   "source": [
    "point_list.sort(key=lambda x: x[-1], reverse=True)\n",
    "\n",
    "print(*[f\"{p[0]}:{p[1]}  {p[2]:.4}\" for p in point_list[:10]], sep=\"\\n\")"
   ]
  }
 ],
 "metadata": {
  "kernelspec": {
   "display_name": "Python 3",
   "language": "python",
   "name": "python3"
  },
  "language_info": {
   "codemirror_mode": {
    "name": "ipython",
    "version": 3
   },
   "file_extension": ".py",
   "mimetype": "text/x-python",
   "name": "python",
   "nbconvert_exporter": "python",
   "pygments_lexer": "ipython3",
   "version": "3.13.2"
  }
 },
 "nbformat": 4,
 "nbformat_minor": 5
}
