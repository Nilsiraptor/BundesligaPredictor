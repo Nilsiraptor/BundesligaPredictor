{
 "cells": [
  {
   "cell_type": "code",
   "execution_count": 180,
   "id": "0d647f4d",
   "metadata": {},
   "outputs": [],
   "source": [
    "from classes import Team\n",
    "\n",
    "from itertools import product\n",
    "\n",
    "import pandas as pd\n",
    "import numpy as np\n",
    "from scipy.special import factorial\n",
    "import matplotlib.pyplot as plt\n",
    "from matplotlib.colors import LogNorm\n",
    "import matplotlib as mpl"
   ]
  },
  {
   "cell_type": "code",
   "execution_count": 181,
   "id": "e15e308a",
   "metadata": {},
   "outputs": [],
   "source": [
    "names = {\n",
    "    \"FCB\": \"Bayern München\",\n",
    "    \"B04\": \"B. Leverkusen\",\n",
    "    \"SGE\": \"E. Frankfurt\",\n",
    "    \"BVB\": \"Bor. Dortmund\",\n",
    "    \"SCF\": \"SC Freiburg\",\n",
    "    \"M05\": \"1.FSV Mainz 05\",\n",
    "    \"RBL\": \"RB Leipzig\",\n",
    "    \"SVW\": \"Werder Bremen\",\n",
    "    \"VFB\": \"VfB Stuttgart\",\n",
    "    \"BMG\": \"Bor. M'gladbach\",\n",
    "    \"WOB\": \"VfL Wolfsburg\",\n",
    "    \"FCA\": \"FC Augsburg\",\n",
    "    \"FCU\": \"Union Berlin\",\n",
    "    \"STP\": \"FC St. Pauli\",\n",
    "    \"TSG\": \"TSG Hoffenheim\",\n",
    "    \"HDH\": \"1.FC Heidenheim\",\n",
    "    \"KOE\": \"1.FC Köln\",\n",
    "    \"HSV\": \"Hamburger SV\",\n",
    "    \"BSC\": \"Hertha BSC\"\n",
    "}"
   ]
  },
  {
   "cell_type": "code",
   "execution_count": 182,
   "id": "4dfa0fdf",
   "metadata": {},
   "outputs": [],
   "source": [
    "home_team = names[\"FCU\"]\n",
    "away_team = names[\"HSV\"]"
   ]
  },
  {
   "cell_type": "code",
   "execution_count": 183,
   "id": "767193e3",
   "metadata": {},
   "outputs": [],
   "source": [
    "l_home, l_away = 1.7626230692801013, 1.1957667178514437"
   ]
  },
  {
   "cell_type": "code",
   "execution_count": 184,
   "id": "d4a245ed",
   "metadata": {},
   "outputs": [],
   "source": [
    "mpl.rcParams[\"axes.axisbelow\"] = True\n",
    "mpl.rcParams[\"figure.constrained_layout.use\"] = True\n",
    "mpl.rcParams[\"figure.frameon\"] = False\n",
    "mpl.rcParams[\"font.sans-serif\"] = [\"Lexend\"] + mpl.rcParams[\"font.sans-serif\"]\n",
    "mpl.rcParams[\"legend.framealpha\"] = 1.0"
   ]
  },
  {
   "cell_type": "code",
   "execution_count": 185,
   "id": "654b890d",
   "metadata": {},
   "outputs": [
    {
     "data": {
      "text/html": [
       "<div>\n",
       "<style scoped>\n",
       "    .dataframe tbody tr th:only-of-type {\n",
       "        vertical-align: middle;\n",
       "    }\n",
       "\n",
       "    .dataframe tbody tr th {\n",
       "        vertical-align: top;\n",
       "    }\n",
       "\n",
       "    .dataframe thead th {\n",
       "        text-align: right;\n",
       "    }\n",
       "</style>\n",
       "<table border=\"1\" class=\"dataframe\">\n",
       "  <thead>\n",
       "    <tr style=\"text-align: right;\">\n",
       "      <th></th>\n",
       "      <th>name</th>\n",
       "      <th>attack</th>\n",
       "      <th>defense</th>\n",
       "    </tr>\n",
       "  </thead>\n",
       "  <tbody>\n",
       "    <tr>\n",
       "      <th>0</th>\n",
       "      <td>Bayern München</td>\n",
       "      <td>27.434935</td>\n",
       "      <td>17.286790</td>\n",
       "    </tr>\n",
       "    <tr>\n",
       "      <th>1</th>\n",
       "      <td>Bor. Dortmund</td>\n",
       "      <td>19.522841</td>\n",
       "      <td>13.563102</td>\n",
       "    </tr>\n",
       "    <tr>\n",
       "      <th>2</th>\n",
       "      <td>B. Leverkusen</td>\n",
       "      <td>16.898583</td>\n",
       "      <td>15.293040</td>\n",
       "    </tr>\n",
       "    <tr>\n",
       "      <th>3</th>\n",
       "      <td>E. Frankfurt</td>\n",
       "      <td>16.567209</td>\n",
       "      <td>11.290121</td>\n",
       "    </tr>\n",
       "    <tr>\n",
       "      <th>4</th>\n",
       "      <td>VfB Stuttgart</td>\n",
       "      <td>14.943853</td>\n",
       "      <td>11.705404</td>\n",
       "    </tr>\n",
       "    <tr>\n",
       "      <th>...</th>\n",
       "      <td>...</td>\n",
       "      <td>...</td>\n",
       "      <td>...</td>\n",
       "    </tr>\n",
       "    <tr>\n",
       "      <th>97</th>\n",
       "      <td>Schweinfurt 05</td>\n",
       "      <td>-8.213126</td>\n",
       "      <td>-7.839511</td>\n",
       "    </tr>\n",
       "    <tr>\n",
       "      <th>98</th>\n",
       "      <td>B. Neunkirchen</td>\n",
       "      <td>-6.396107</td>\n",
       "      <td>-10.734558</td>\n",
       "    </tr>\n",
       "    <tr>\n",
       "      <th>99</th>\n",
       "      <td>Lüttringhausen</td>\n",
       "      <td>-6.796389</td>\n",
       "      <td>-10.399109</td>\n",
       "    </tr>\n",
       "    <tr>\n",
       "      <th>100</th>\n",
       "      <td>Union Solingen</td>\n",
       "      <td>-10.872366</td>\n",
       "      <td>-9.089304</td>\n",
       "    </tr>\n",
       "    <tr>\n",
       "      <th>101</th>\n",
       "      <td>Tasmania Berlin</td>\n",
       "      <td>-10.997426</td>\n",
       "      <td>-13.171095</td>\n",
       "    </tr>\n",
       "  </tbody>\n",
       "</table>\n",
       "<p>102 rows × 3 columns</p>\n",
       "</div>"
      ],
      "text/plain": [
       "                name     attack    defense\n",
       "0     Bayern München  27.434935  17.286790\n",
       "1      Bor. Dortmund  19.522841  13.563102\n",
       "2      B. Leverkusen  16.898583  15.293040\n",
       "3       E. Frankfurt  16.567209  11.290121\n",
       "4      VfB Stuttgart  14.943853  11.705404\n",
       "..               ...        ...        ...\n",
       "97    Schweinfurt 05  -8.213126  -7.839511\n",
       "98    B. Neunkirchen  -6.396107 -10.734558\n",
       "99    Lüttringhausen  -6.796389 -10.399109\n",
       "100   Union Solingen -10.872366  -9.089304\n",
       "101  Tasmania Berlin -10.997426 -13.171095\n",
       "\n",
       "[102 rows x 3 columns]"
      ]
     },
     "execution_count": 185,
     "metadata": {},
     "output_type": "execute_result"
    }
   ],
   "source": [
    "df = pd.read_csv(\"model.csv\")\n",
    "df"
   ]
  },
  {
   "cell_type": "code",
   "execution_count": 186,
   "id": "154df8da",
   "metadata": {},
   "outputs": [],
   "source": [
    "teams = {}\n",
    "for index, row in df.iterrows():\n",
    "    name = row[\"name\"]\n",
    "    att = row[\"attack\"]\n",
    "    dfe = row[\"defense\"]\n",
    "\n",
    "    teams[name] = Team(name, att, dfe)"
   ]
  },
  {
   "cell_type": "code",
   "execution_count": 187,
   "id": "1d73250f",
   "metadata": {},
   "outputs": [
    {
     "name": "stdout",
     "output_type": "stream",
     "text": [
      "1.9284065774943857 1.1836726468630188\n"
     ]
    }
   ],
   "source": [
    "prediction = teams[home_team].match(teams[away_team], l_home, l_away)\n",
    "\n",
    "print(*prediction)"
   ]
  },
  {
   "cell_type": "code",
   "execution_count": 188,
   "id": "2fcd911b",
   "metadata": {},
   "outputs": [],
   "source": [
    "def poisson(k, l):\n",
    "    return l**k / factorial(k, exact=True) * np.exp(-l)"
   ]
  },
  {
   "cell_type": "code",
   "execution_count": 189,
   "id": "a20ad1e6",
   "metadata": {},
   "outputs": [
    {
     "name": "stdout",
     "output_type": "stream",
     "text": [
      "54.7% 22.1% 23.2%\n"
     ]
    }
   ],
   "source": [
    "p = teams[home_team].calculate_win_probabilities(teams[away_team], l_home, l_away)\n",
    "\n",
    "print(*[f\"{100*r:.3}%\" for r in p])"
   ]
  },
  {
   "cell_type": "code",
   "execution_count": 190,
   "id": "4d36bb7f",
   "metadata": {},
   "outputs": [],
   "source": [
    "results = []\n",
    "for h, a in product(range(0, 6), repeat=2):\n",
    "    results.append((h, a, poisson(h, prediction[0])*poisson(a, prediction[1])))"
   ]
  },
  {
   "cell_type": "code",
   "execution_count": 191,
   "id": "ed4c3dd8",
   "metadata": {},
   "outputs": [],
   "source": [
    "results.sort(key=lambda x: x[-1], reverse=True)"
   ]
  },
  {
   "cell_type": "code",
   "execution_count": 192,
   "id": "05e241b6",
   "metadata": {},
   "outputs": [
    {
     "name": "stdout",
     "output_type": "stream",
     "text": [
      "1:1  10.2%\n",
      "2:1  9.8%\n",
      "1:0  8.58%\n",
      "2:0  8.28%\n",
      "3:1  6.3%\n",
      "1:2  6.01%\n",
      "2:2  5.8%\n",
      "3:0  5.32%\n",
      "0:1  5.27%\n",
      "0:0  4.45%\n"
     ]
    }
   ],
   "source": [
    "print(*[f\"{r[0]}:{r[1]}  {100*r[2]:.3}%\" for r in results[:10]], sep=\"\\n\")"
   ]
  },
  {
   "cell_type": "code",
   "execution_count": 193,
   "id": "f842500c",
   "metadata": {},
   "outputs": [
    {
     "data": {
      "image/png": "[encoded data removed]",
      "text/plain": [
       "<Figure size 500x413.5 with 2 Axes>"
      ]
     },
     "metadata": {},
     "output_type": "display_data"
    }
   ],
   "source": [
    "teams[home_team].show_probability_distribution(teams[away_team], l_home ,l_away, save=True)"
   ]
  },
  {
   "cell_type": "code",
   "execution_count": 194,
   "id": "1f7d0443",
   "metadata": {},
   "outputs": [],
   "source": [
    "N = 5\n",
    "M = 6\n",
    "\n",
    "results = np.zeros((M, M))\n",
    "\n",
    "for i in range(M):\n",
    "    for j in range(M):\n",
    "        results[i, j] = poisson(i, prediction[0])*poisson(j, prediction[1])\n",
    "\n",
    "points = np.zeros((N, N))\n",
    "point_list = []\n",
    "\n",
    "for i in range(N):\n",
    "    for j in range(N):\n",
    "        poi = np.zeros((M, M))\n",
    "        for a in range(M):\n",
    "            for b in range(M):\n",
    "                if i == a and j == b:\n",
    "                    poi[a, b] = 4\n",
    "                elif (i-j) == (a-b):\n",
    "                    poi[a, b] = 3\n",
    "                elif i > j and a > b:\n",
    "                    poi[a, b] = 2\n",
    "                elif i < j and a < b:\n",
    "                    poi[a, b] = 2\n",
    "\n",
    "        points[i, j] = np.sum(results * poi)\n",
    "        point_list.append((i, j, np.sum(results * poi)))"
   ]
  },
  {
   "cell_type": "code",
   "execution_count": 195,
   "id": "00fcee45",
   "metadata": {},
   "outputs": [
    {
     "data": {
      "image/png": "[encoded data removed]",
      "text/plain": [
       "<Figure size 640x480 with 2 Axes>"
      ]
     },
     "metadata": {},
     "output_type": "display_data"
    }
   ],
   "source": [
    "heatmap = plt.imshow(points, cmap='plasma', origin=\"lower\")\n",
    "cb = plt.colorbar(heatmap, label='Expected Points')\n",
    "\n",
    "font_props = {\"ha\": \"center\",\n",
    "              \"va\": \"center\",\n",
    "              \"color\": \"g\"}\n",
    "\n",
    "for i in range(N):\n",
    "    for j in range(N):\n",
    "        plt.text(j, i, f'{i} : {j}', **font_props)\n",
    "\n",
    "plt.show()"
   ]
  },
  {
   "cell_type": "code",
   "execution_count": 196,
   "id": "c6413473",
   "metadata": {},
   "outputs": [
    {
     "name": "stdout",
     "output_type": "stream",
     "text": [
      "2:1  1.393\n",
      "1:0  1.381\n",
      "3:2  1.332\n",
      "2:0  1.315\n",
      "4:3  1.302\n",
      "3:1  1.296\n",
      "4:2  1.251\n",
      "3:0  1.21\n",
      "4:1  1.187\n",
      "4:0  1.129\n"
     ]
    }
   ],
   "source": [
    "point_list.sort(key=lambda x: x[-1], reverse=True)\n",
    "\n",
    "print(*[f\"{p[0]}:{p[1]}  {p[2]:.4}\" for p in point_list[:10]], sep=\"\\n\")"
   ]
  }
 ],
 "metadata": {
  "kernelspec": {
   "display_name": "Python 3",
   "language": "python",
   "name": "python3"
  },
  "language_info": {
   "codemirror_mode": {
    "name": "ipython",
    "version": 3
   },
   "file_extension": ".py",
   "mimetype": "text/x-python",
   "name": "python",
   "nbconvert_exporter": "python",
   "pygments_lexer": "ipython3",
   "version": "3.13.2"
  }
 },
 "nbformat": 4,
 "nbformat_minor": 5
}
