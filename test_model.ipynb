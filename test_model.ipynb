{
 "cells": [
  {
   "cell_type": "code",
   "execution_count": 146,
   "id": "0d647f4d",
   "metadata": {},
   "outputs": [],
   "source": [
    "from classes import Team\n",
    "\n",
    "from itertools import product\n",
    "\n",
    "import pandas as pd\n",
    "import numpy as np\n",
    "from scipy.special import factorial\n",
    "import matplotlib.pyplot as plt\n",
    "from matplotlib.colors import LogNorm\n",
    "import matplotlib as mpl"
   ]
  },
  {
   "cell_type": "code",
   "execution_count": 147,
   "id": "e15e308a",
   "metadata": {},
   "outputs": [],
   "source": [
    "names = {\n",
    "    \"FCB\": \"Bayern München\",\n",
    "    \"B04\": \"B. Leverkusen\",\n",
    "    \"SGE\": \"E. Frankfurt\",\n",
    "    \"BVB\": \"Bor. Dortmund\",\n",
    "    \"SCF\": \"SC Freiburg\",\n",
    "    \"M05\": \"1.FSV Mainz 05\",\n",
    "    \"RBL\": \"RB Leipzig\",\n",
    "    \"SVW\": \"Werder Bremen\",\n",
    "    \"VFB\": \"VfB Stuttgart\",\n",
    "    \"BMG\": \"Bor. M'gladbach\",\n",
    "    \"WOB\": \"VfL Wolfsburg\",\n",
    "    \"FCA\": \"FC Augsburg\",\n",
    "    \"FCU\": \"Union Berlin\",\n",
    "    \"STP\": \"FC St. Pauli\",\n",
    "    \"TSG\": \"TSG Hoffenheim\",\n",
    "    \"HDH\": \"1.FC Heidenheim\",\n",
    "    \"KOE\": \"1.FC Köln\",\n",
    "    \"HSV\": \"Hamburger SV\",\n",
    "    \"BSC\": \"Hertha BSC\"\n",
    "}"
   ]
  },
  {
   "cell_type": "code",
   "execution_count": 148,
   "id": "4dfa0fdf",
   "metadata": {},
   "outputs": [],
   "source": [
    "home_team = names[\"BMG\"]\n",
    "away_team = names[\"SCF\"]"
   ]
  },
  {
   "cell_type": "code",
   "execution_count": 149,
   "id": "767193e3",
   "metadata": {},
   "outputs": [],
   "source": [
    "l_home, l_away = 1.7626230692801013, 1.1957667178514437"
   ]
  },
  {
   "cell_type": "code",
   "execution_count": 150,
   "id": "d4a245ed",
   "metadata": {},
   "outputs": [],
   "source": [
    "mpl.rcParams[\"axes.axisbelow\"] = True\n",
    "mpl.rcParams[\"figure.constrained_layout.use\"] = True\n",
    "mpl.rcParams[\"figure.frameon\"] = False\n",
    "mpl.rcParams[\"font.sans-serif\"] = [\"Lexend\"] + mpl.rcParams[\"font.sans-serif\"]\n",
    "mpl.rcParams[\"legend.framealpha\"] = 1.0"
   ]
  },
  {
   "cell_type": "code",
   "execution_count": 151,
   "id": "654b890d",
   "metadata": {},
   "outputs": [
    {
     "data": {
      "text/html": [
       "<div>\n",
       "<style scoped>\n",
       "    .dataframe tbody tr th:only-of-type {\n",
       "        vertical-align: middle;\n",
       "    }\n",
       "\n",
       "    .dataframe tbody tr th {\n",
       "        vertical-align: top;\n",
       "    }\n",
       "\n",
       "    .dataframe thead th {\n",
       "        text-align: right;\n",
       "    }\n",
       "</style>\n",
       "<table border=\"1\" class=\"dataframe\">\n",
       "  <thead>\n",
       "    <tr style=\"text-align: right;\">\n",
       "      <th></th>\n",
       "      <th>name</th>\n",
       "      <th>attack</th>\n",
       "      <th>defense</th>\n",
       "    </tr>\n",
       "  </thead>\n",
       "  <tbody>\n",
       "    <tr>\n",
       "      <th>0</th>\n",
       "      <td>Bayern München</td>\n",
       "      <td>27.515563</td>\n",
       "      <td>17.744479</td>\n",
       "    </tr>\n",
       "    <tr>\n",
       "      <th>1</th>\n",
       "      <td>Bor. Dortmund</td>\n",
       "      <td>19.757305</td>\n",
       "      <td>14.328981</td>\n",
       "    </tr>\n",
       "    <tr>\n",
       "      <th>2</th>\n",
       "      <td>B. Leverkusen</td>\n",
       "      <td>17.192660</td>\n",
       "      <td>15.250711</td>\n",
       "    </tr>\n",
       "    <tr>\n",
       "      <th>3</th>\n",
       "      <td>E. Frankfurt</td>\n",
       "      <td>18.709992</td>\n",
       "      <td>10.097362</td>\n",
       "    </tr>\n",
       "    <tr>\n",
       "      <th>4</th>\n",
       "      <td>VfB Stuttgart</td>\n",
       "      <td>15.132708</td>\n",
       "      <td>11.797461</td>\n",
       "    </tr>\n",
       "    <tr>\n",
       "      <th>5</th>\n",
       "      <td>RB Leipzig</td>\n",
       "      <td>12.285573</td>\n",
       "      <td>13.401105</td>\n",
       "    </tr>\n",
       "    <tr>\n",
       "      <th>6</th>\n",
       "      <td>1.FSV Mainz 05</td>\n",
       "      <td>10.060540</td>\n",
       "      <td>14.119852</td>\n",
       "    </tr>\n",
       "    <tr>\n",
       "      <th>7</th>\n",
       "      <td>Werder Bremen</td>\n",
       "      <td>11.691057</td>\n",
       "      <td>9.159262</td>\n",
       "    </tr>\n",
       "    <tr>\n",
       "      <th>8</th>\n",
       "      <td>VfL Wolfsburg</td>\n",
       "      <td>9.414487</td>\n",
       "      <td>11.048598</td>\n",
       "    </tr>\n",
       "    <tr>\n",
       "      <th>9</th>\n",
       "      <td>SC Freiburg</td>\n",
       "      <td>10.350543</td>\n",
       "      <td>9.648537</td>\n",
       "    </tr>\n",
       "    <tr>\n",
       "      <th>10</th>\n",
       "      <td>TSG Hoffenheim</td>\n",
       "      <td>12.661358</td>\n",
       "      <td>5.812779</td>\n",
       "    </tr>\n",
       "    <tr>\n",
       "      <th>11</th>\n",
       "      <td>Bor. M'gladbach</td>\n",
       "      <td>10.763823</td>\n",
       "      <td>6.742988</td>\n",
       "    </tr>\n",
       "    <tr>\n",
       "      <th>12</th>\n",
       "      <td>FC St. Pauli</td>\n",
       "      <td>3.283424</td>\n",
       "      <td>13.170034</td>\n",
       "    </tr>\n",
       "    <tr>\n",
       "      <th>13</th>\n",
       "      <td>FC Augsburg</td>\n",
       "      <td>6.087433</td>\n",
       "      <td>9.285619</td>\n",
       "    </tr>\n",
       "    <tr>\n",
       "      <th>14</th>\n",
       "      <td>Union Berlin</td>\n",
       "      <td>5.304372</td>\n",
       "      <td>9.558168</td>\n",
       "    </tr>\n",
       "    <tr>\n",
       "      <th>15</th>\n",
       "      <td>Hamburger SV</td>\n",
       "      <td>8.172256</td>\n",
       "      <td>5.407681</td>\n",
       "    </tr>\n",
       "    <tr>\n",
       "      <th>16</th>\n",
       "      <td>1.FC Köln</td>\n",
       "      <td>4.091523</td>\n",
       "      <td>8.316545</td>\n",
       "    </tr>\n",
       "    <tr>\n",
       "      <th>17</th>\n",
       "      <td>1.FC Heidenheim</td>\n",
       "      <td>4.549544</td>\n",
       "      <td>7.541169</td>\n",
       "    </tr>\n",
       "  </tbody>\n",
       "</table>\n",
       "</div>"
      ],
      "text/plain": [
       "               name     attack    defense\n",
       "0    Bayern München  27.515563  17.744479\n",
       "1     Bor. Dortmund  19.757305  14.328981\n",
       "2     B. Leverkusen  17.192660  15.250711\n",
       "3      E. Frankfurt  18.709992  10.097362\n",
       "4     VfB Stuttgart  15.132708  11.797461\n",
       "5        RB Leipzig  12.285573  13.401105\n",
       "6    1.FSV Mainz 05  10.060540  14.119852\n",
       "7     Werder Bremen  11.691057   9.159262\n",
       "8     VfL Wolfsburg   9.414487  11.048598\n",
       "9       SC Freiburg  10.350543   9.648537\n",
       "10   TSG Hoffenheim  12.661358   5.812779\n",
       "11  Bor. M'gladbach  10.763823   6.742988\n",
       "12     FC St. Pauli   3.283424  13.170034\n",
       "13      FC Augsburg   6.087433   9.285619\n",
       "14     Union Berlin   5.304372   9.558168\n",
       "15     Hamburger SV   8.172256   5.407681\n",
       "16        1.FC Köln   4.091523   8.316545\n",
       "17  1.FC Heidenheim   4.549544   7.541169"
      ]
     },
     "execution_count": 151,
     "metadata": {},
     "output_type": "execute_result"
    }
   ],
   "source": [
    "df = pd.read_csv(\"model.csv\")\n",
    "df.head(18)"
   ]
  },
  {
   "cell_type": "code",
   "execution_count": 152,
   "id": "154df8da",
   "metadata": {},
   "outputs": [],
   "source": [
    "teams = {}\n",
    "for index, row in df.iterrows():\n",
    "    name = row[\"name\"]\n",
    "    att = row[\"attack\"]\n",
    "    dfe = row[\"defense\"]\n",
    "\n",
    "    teams[name] = Team(name, att, dfe)"
   ]
  },
  {
   "cell_type": "code",
   "execution_count": 153,
   "id": "1d73250f",
   "metadata": {},
   "outputs": [
    {
     "name": "stdout",
     "output_type": "stream",
     "text": [
      "1.8628136618654658 1.4249050615192436\n"
     ]
    }
   ],
   "source": [
    "prediction = teams[home_team].match(teams[away_team], l_home, l_away)\n",
    "\n",
    "print(*prediction)"
   ]
  },
  {
   "cell_type": "code",
   "execution_count": 154,
   "id": "2fcd911b",
   "metadata": {},
   "outputs": [],
   "source": [
    "def poisson(k, l):\n",
    "    return l**k / factorial(k, exact=True) * np.exp(-l)"
   ]
  },
  {
   "cell_type": "code",
   "execution_count": 155,
   "id": "a20ad1e6",
   "metadata": {},
   "outputs": [
    {
     "name": "stdout",
     "output_type": "stream",
     "text": [
      "47.9% 22.5% 29.6%\n"
     ]
    }
   ],
   "source": [
    "p = teams[home_team].calculate_win_probabilities(teams[away_team], l_home, l_away)\n",
    "\n",
    "print(*[f\"{100*r:.3}%\" for r in p])"
   ]
  },
  {
   "cell_type": "code",
   "execution_count": 156,
   "id": "4d36bb7f",
   "metadata": {},
   "outputs": [],
   "source": [
    "results = []\n",
    "for h, a in product(range(0, 6), repeat=2):\n",
    "    results.append((h, a, poisson(h, prediction[0])*poisson(a, prediction[1])))"
   ]
  },
  {
   "cell_type": "code",
   "execution_count": 157,
   "id": "ed4c3dd8",
   "metadata": {},
   "outputs": [],
   "source": [
    "results.sort(key=lambda x: x[-1], reverse=True)"
   ]
  },
  {
   "cell_type": "code",
   "execution_count": 158,
   "id": "05e241b6",
   "metadata": {},
   "outputs": [
    {
     "name": "stdout",
     "output_type": "stream",
     "text": [
      "1:1  9.91%\n",
      "2:1  9.23%\n",
      "1:2  7.06%\n",
      "1:0  6.96%\n",
      "2:2  6.58%\n",
      "2:0  6.48%\n",
      "3:1  5.73%\n",
      "0:1  5.32%\n",
      "3:2  4.08%\n",
      "3:0  4.02%\n"
     ]
    }
   ],
   "source": [
    "print(*[f\"{r[0]}:{r[1]}  {100*r[2]:.3}%\" for r in results[:10]], sep=\"\\n\")"
   ]
  },
  {
   "cell_type": "code",
   "execution_count": 159,
   "id": "f842500c",
   "metadata": {},
   "outputs": [
    {
     "data": {
      "image/png": "[encoded data removed]",
      "text/plain": [
       "<Figure size 500x413.5 with 2 Axes>"
      ]
     },
     "metadata": {},
     "output_type": "display_data"
    }
   ],
   "source": [
    "teams[home_team].show_probability_distribution(teams[away_team], l_home ,l_away, save=True)"
   ]
  },
  {
   "cell_type": "code",
   "execution_count": 160,
   "id": "1f7d0443",
   "metadata": {},
   "outputs": [],
   "source": [
    "N = 5\n",
    "M = 6\n",
    "\n",
    "results = np.zeros((M, M))\n",
    "\n",
    "for i in range(M):\n",
    "    for j in range(M):\n",
    "        results[i, j] = poisson(i, prediction[0])*poisson(j, prediction[1])\n",
    "\n",
    "points = np.zeros((N, N))\n",
    "point_list = []\n",
    "\n",
    "for i in range(N):\n",
    "    for j in range(N):\n",
    "        poi = np.zeros((M, M))\n",
    "        for a in range(M):\n",
    "            for b in range(M):\n",
    "                if i == a and j == b:\n",
    "                    poi[a, b] = 4\n",
    "                elif (i-j) == (a-b):\n",
    "                    poi[a, b] = 3\n",
    "                elif i > j and a > b:\n",
    "                    poi[a, b] = 2\n",
    "                elif i < j and a < b:\n",
    "                    poi[a, b] = 2\n",
    "\n",
    "        points[i, j] = np.sum(results * poi)\n",
    "        point_list.append((i, j, np.sum(results * poi)))"
   ]
  },
  {
   "cell_type": "code",
   "execution_count": 161,
   "id": "00fcee45",
   "metadata": {},
   "outputs": [
    {
     "data": {
      "image/png": "[encoded data removed]",
      "text/plain": [
       "<Figure size 640x480 with 2 Axes>"
      ]
     },
     "metadata": {},
     "output_type": "display_data"
    }
   ],
   "source": [
    "heatmap = plt.imshow(points, cmap='plasma', origin=\"lower\")\n",
    "cb = plt.colorbar(heatmap, label='Expected Points')\n",
    "\n",
    "font_props = {\"ha\": \"center\",\n",
    "              \"va\": \"center\",\n",
    "              \"color\": \"g\"}\n",
    "\n",
    "for i in range(N):\n",
    "    for j in range(N):\n",
    "        plt.text(j, i, f'{i} : {j}', **font_props)\n",
    "\n",
    "plt.show()"
   ]
  },
  {
   "cell_type": "code",
   "execution_count": 162,
   "id": "c6413473",
   "metadata": {},
   "outputs": [
    {
     "name": "stdout",
     "output_type": "stream",
     "text": [
      "2:1  1.239\n",
      "1:0  1.217\n",
      "3:2  1.188\n",
      "4:3  1.156\n",
      "2:0  1.143\n",
      "3:1  1.136\n",
      "4:2  1.098\n",
      "3:0  1.048\n",
      "4:1  1.035\n",
      "4:0  0.9816\n"
     ]
    }
   ],
   "source": [
    "point_list.sort(key=lambda x: x[-1], reverse=True)\n",
    "\n",
    "print(*[f\"{p[0]}:{p[1]}  {p[2]:.4}\" for p in point_list[:10]], sep=\"\\n\")"
   ]
  }
 ],
 "metadata": {
  "kernelspec": {
   "display_name": "Python 3",
   "language": "python",
   "name": "python3"
  },
  "language_info": {
   "codemirror_mode": {
    "name": "ipython",
    "version": 3
   },
   "file_extension": ".py",
   "mimetype": "text/x-python",
   "name": "python",
   "nbconvert_exporter": "python",
   "pygments_lexer": "ipython3",
   "version": "3.13.2"
  }
 },
 "nbformat": 4,
 "nbformat_minor": 5
}
