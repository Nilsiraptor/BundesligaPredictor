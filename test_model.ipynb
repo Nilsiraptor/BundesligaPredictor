{
 "cells": [
  {
   "cell_type": "code",
   "execution_count": 1,
   "id": "0d647f4d",
   "metadata": {},
   "outputs": [],
   "source": [
    "from classes import Team\n",
    "\n",
    "from itertools import product\n",
    "\n",
    "import pandas as pd\n",
    "import numpy as np\n",
    "from scipy.special import factorial\n",
    "import matplotlib.pyplot as plt\n",
    "from matplotlib.colors import LogNorm\n",
    "import matplotlib as mpl"
   ]
  },
  {
   "cell_type": "code",
   "execution_count": 2,
   "id": "e15e308a",
   "metadata": {},
   "outputs": [],
   "source": [
    "names = {\n",
    "    \"FCB\": \"Bayern München\",\n",
    "    \"B04\": \"B. Leverkusen\",\n",
    "    \"SGE\": \"E. Frankfurt\",\n",
    "    \"BVB\": \"Bor. Dortmund\",\n",
    "    \"SCF\": \"SC Freiburg\",\n",
    "    \"M05\": \"1.FSV Mainz 05\",\n",
    "    \"RBL\": \"RB Leipzig\",\n",
    "    \"SVW\": \"Werder Bremen\",\n",
    "    \"VFB\": \"VfB Stuttgart\",\n",
    "    \"BMG\": \"Bor. M'gladbach\",\n",
    "    \"WOB\": \"VfL Wolfsburg\",\n",
    "    \"FCA\": \"FC Augsburg\",\n",
    "    \"FCU\": \"Union Berlin\",\n",
    "    \"STP\": \"FC St. Pauli\",\n",
    "    \"TSG\": \"TSG Hoffenheim\",\n",
    "    \"HDH\": \"1.FC Heidenheim\",\n",
    "    \"KOE\": \"1.FC Köln\",\n",
    "    \"HSV\": \"Hamburger SV\",\n",
    "    \"BSC\": \"Hertha BSC\"\n",
    "}"
   ]
  },
  {
   "cell_type": "code",
   "execution_count": 3,
   "id": "4dfa0fdf",
   "metadata": {},
   "outputs": [],
   "source": [
    "home_team = names[\"STP\"]\n",
    "away_team = names[\"TSG\"]"
   ]
  },
  {
   "cell_type": "code",
   "execution_count": 4,
   "id": "767193e3",
   "metadata": {},
   "outputs": [],
   "source": [
    "l_home, l_away = 1.7626230692801013, 1.1957667178514437"
   ]
  },
  {
   "cell_type": "code",
   "execution_count": 5,
   "id": "d4a245ed",
   "metadata": {},
   "outputs": [],
   "source": [
    "mpl.rcParams[\"axes.axisbelow\"] = True\n",
    "mpl.rcParams[\"figure.constrained_layout.use\"] = True\n",
    "mpl.rcParams[\"figure.frameon\"] = False\n",
    "mpl.rcParams[\"font.sans-serif\"] = [\"Lexend\"] + mpl.rcParams[\"font.sans-serif\"]\n",
    "mpl.rcParams[\"legend.framealpha\"] = 1.0"
   ]
  },
  {
   "cell_type": "code",
   "execution_count": 6,
   "id": "654b890d",
   "metadata": {},
   "outputs": [
    {
     "data": {
      "text/html": [
       "<div>\n",
       "<style scoped>\n",
       "    .dataframe tbody tr th:only-of-type {\n",
       "        vertical-align: middle;\n",
       "    }\n",
       "\n",
       "    .dataframe tbody tr th {\n",
       "        vertical-align: top;\n",
       "    }\n",
       "\n",
       "    .dataframe thead th {\n",
       "        text-align: right;\n",
       "    }\n",
       "</style>\n",
       "<table border=\"1\" class=\"dataframe\">\n",
       "  <thead>\n",
       "    <tr style=\"text-align: right;\">\n",
       "      <th></th>\n",
       "      <th>name</th>\n",
       "      <th>attack</th>\n",
       "      <th>defense</th>\n",
       "    </tr>\n",
       "  </thead>\n",
       "  <tbody>\n",
       "    <tr>\n",
       "      <th>0</th>\n",
       "      <td>Bayern München</td>\n",
       "      <td>27.748119</td>\n",
       "      <td>18.668876</td>\n",
       "    </tr>\n",
       "    <tr>\n",
       "      <th>1</th>\n",
       "      <td>Bor. Dortmund</td>\n",
       "      <td>19.065573</td>\n",
       "      <td>14.368122</td>\n",
       "    </tr>\n",
       "    <tr>\n",
       "      <th>2</th>\n",
       "      <td>B. Leverkusen</td>\n",
       "      <td>16.931373</td>\n",
       "      <td>15.601741</td>\n",
       "    </tr>\n",
       "    <tr>\n",
       "      <th>3</th>\n",
       "      <td>E. Frankfurt</td>\n",
       "      <td>17.785651</td>\n",
       "      <td>9.864891</td>\n",
       "    </tr>\n",
       "    <tr>\n",
       "      <th>4</th>\n",
       "      <td>VfB Stuttgart</td>\n",
       "      <td>14.373588</td>\n",
       "      <td>12.205738</td>\n",
       "    </tr>\n",
       "    <tr>\n",
       "      <th>5</th>\n",
       "      <td>RB Leipzig</td>\n",
       "      <td>12.246392</td>\n",
       "      <td>14.092712</td>\n",
       "    </tr>\n",
       "    <tr>\n",
       "      <th>6</th>\n",
       "      <td>1.FSV Mainz 05</td>\n",
       "      <td>9.312121</td>\n",
       "      <td>12.765778</td>\n",
       "    </tr>\n",
       "    <tr>\n",
       "      <th>7</th>\n",
       "      <td>Werder Bremen</td>\n",
       "      <td>11.373493</td>\n",
       "      <td>9.599289</td>\n",
       "    </tr>\n",
       "    <tr>\n",
       "      <th>8</th>\n",
       "      <td>SC Freiburg</td>\n",
       "      <td>9.637893</td>\n",
       "      <td>10.579825</td>\n",
       "    </tr>\n",
       "    <tr>\n",
       "      <th>9</th>\n",
       "      <td>VfL Wolfsburg</td>\n",
       "      <td>9.312581</td>\n",
       "      <td>10.229737</td>\n",
       "    </tr>\n",
       "    <tr>\n",
       "      <th>10</th>\n",
       "      <td>TSG Hoffenheim</td>\n",
       "      <td>11.574439</td>\n",
       "      <td>5.860992</td>\n",
       "    </tr>\n",
       "    <tr>\n",
       "      <th>11</th>\n",
       "      <td>Bor. M'gladbach</td>\n",
       "      <td>9.832783</td>\n",
       "      <td>7.455724</td>\n",
       "    </tr>\n",
       "    <tr>\n",
       "      <th>12</th>\n",
       "      <td>FC St. Pauli</td>\n",
       "      <td>2.843284</td>\n",
       "      <td>13.487658</td>\n",
       "    </tr>\n",
       "    <tr>\n",
       "      <th>13</th>\n",
       "      <td>FC Augsburg</td>\n",
       "      <td>6.906191</td>\n",
       "      <td>9.387647</td>\n",
       "    </tr>\n",
       "    <tr>\n",
       "      <th>14</th>\n",
       "      <td>Hamburger SV</td>\n",
       "      <td>9.526311</td>\n",
       "      <td>6.155938</td>\n",
       "    </tr>\n",
       "    <tr>\n",
       "      <th>15</th>\n",
       "      <td>Union Berlin</td>\n",
       "      <td>4.953547</td>\n",
       "      <td>9.819614</td>\n",
       "    </tr>\n",
       "    <tr>\n",
       "      <th>16</th>\n",
       "      <td>1.FC Köln</td>\n",
       "      <td>4.043317</td>\n",
       "      <td>9.403302</td>\n",
       "    </tr>\n",
       "    <tr>\n",
       "      <th>17</th>\n",
       "      <td>SV Elversberg</td>\n",
       "      <td>5.647946</td>\n",
       "      <td>7.215550</td>\n",
       "    </tr>\n",
       "  </tbody>\n",
       "</table>\n",
       "</div>"
      ],
      "text/plain": [
       "               name     attack    defense\n",
       "0    Bayern München  27.748119  18.668876\n",
       "1     Bor. Dortmund  19.065573  14.368122\n",
       "2     B. Leverkusen  16.931373  15.601741\n",
       "3      E. Frankfurt  17.785651   9.864891\n",
       "4     VfB Stuttgart  14.373588  12.205738\n",
       "5        RB Leipzig  12.246392  14.092712\n",
       "6    1.FSV Mainz 05   9.312121  12.765778\n",
       "7     Werder Bremen  11.373493   9.599289\n",
       "8       SC Freiburg   9.637893  10.579825\n",
       "9     VfL Wolfsburg   9.312581  10.229737\n",
       "10   TSG Hoffenheim  11.574439   5.860992\n",
       "11  Bor. M'gladbach   9.832783   7.455724\n",
       "12     FC St. Pauli   2.843284  13.487658\n",
       "13      FC Augsburg   6.906191   9.387647\n",
       "14     Hamburger SV   9.526311   6.155938\n",
       "15     Union Berlin   4.953547   9.819614\n",
       "16        1.FC Köln   4.043317   9.403302\n",
       "17    SV Elversberg   5.647946   7.215550"
      ]
     },
     "execution_count": 6,
     "metadata": {},
     "output_type": "execute_result"
    }
   ],
   "source": [
    "df = pd.read_csv(\"model.csv\")\n",
    "df.head(18)"
   ]
  },
  {
   "cell_type": "code",
   "execution_count": 7,
   "id": "154df8da",
   "metadata": {},
   "outputs": [],
   "source": [
    "teams = {}\n",
    "for index, row in df.iterrows():\n",
    "    name = row[\"name\"]\n",
    "    att = row[\"attack\"]\n",
    "    dfe = row[\"defense\"]\n",
    "\n",
    "    teams[name] = Team(name, att, dfe)"
   ]
  },
  {
   "cell_type": "code",
   "execution_count": 8,
   "id": "1d73250f",
   "metadata": {},
   "outputs": [
    {
     "name": "stdout",
     "output_type": "stream",
     "text": [
      "1.5105512533370382 1.0851681697798021\n"
     ]
    }
   ],
   "source": [
    "prediction = teams[home_team].match(teams[away_team], l_home, l_away)\n",
    "\n",
    "print(*prediction)"
   ]
  },
  {
   "cell_type": "code",
   "execution_count": 9,
   "id": "2fcd911b",
   "metadata": {},
   "outputs": [],
   "source": [
    "def poisson(k, l):\n",
    "    return l**k / factorial(k, exact=True) * np.exp(-l)"
   ]
  },
  {
   "cell_type": "code",
   "execution_count": 10,
   "id": "a20ad1e6",
   "metadata": {},
   "outputs": [
    {
     "name": "stdout",
     "output_type": "stream",
     "text": [
      "47.0% 25.7% 27.2%\n"
     ]
    }
   ],
   "source": [
    "p = teams[home_team].calculate_win_probabilities(teams[away_team], l_home, l_away)\n",
    "\n",
    "print(*[f\"{100*r:.3}%\" for r in p])"
   ]
  },
  {
   "cell_type": "code",
   "execution_count": 11,
   "id": "4d36bb7f",
   "metadata": {},
   "outputs": [],
   "source": [
    "results = []\n",
    "for h, a in product(range(0, 6), repeat=2):\n",
    "    results.append((h, a, poisson(h, prediction[0])*poisson(a, prediction[1])))"
   ]
  },
  {
   "cell_type": "code",
   "execution_count": 12,
   "id": "ed4c3dd8",
   "metadata": {},
   "outputs": [],
   "source": [
    "results.sort(key=lambda x: x[-1], reverse=True)"
   ]
  },
  {
   "cell_type": "code",
   "execution_count": 13,
   "id": "05e241b6",
   "metadata": {},
   "outputs": [
    {
     "name": "stdout",
     "output_type": "stream",
     "text": [
      "1:1  12.2%\n",
      "1:0  11.3%\n",
      "2:1  9.23%\n",
      "2:0  8.51%\n",
      "0:1  8.09%\n",
      "0:0  7.46%\n",
      "1:2  6.63%\n",
      "2:2  5.01%\n",
      "3:1  4.65%\n",
      "0:2  4.39%\n"
     ]
    }
   ],
   "source": [
    "print(*[f\"{r[0]}:{r[1]}  {100*r[2]:.3}%\" for r in results[:10]], sep=\"\\n\")"
   ]
  },
  {
   "cell_type": "code",
   "execution_count": 14,
   "id": "f842500c",
   "metadata": {},
   "outputs": [
    {
     "data": {
      "image/png": "[encoded data removed]",
      "text/plain": [
       "<Figure size 500x413.5 with 2 Axes>"
      ]
     },
     "metadata": {},
     "output_type": "display_data"
    }
   ],
   "source": [
    "teams[home_team].show_probability_distribution(teams[away_team], l_home ,l_away, save=True)"
   ]
  },
  {
   "cell_type": "code",
   "execution_count": 15,
   "id": "1f7d0443",
   "metadata": {},
   "outputs": [],
   "source": [
    "N = 5\n",
    "M = 6\n",
    "\n",
    "results = np.zeros((M, M))\n",
    "\n",
    "for i in range(M):\n",
    "    for j in range(M):\n",
    "        results[i, j] = poisson(i, prediction[0])*poisson(j, prediction[1])\n",
    "\n",
    "points = np.zeros((N, N))\n",
    "point_list = []\n",
    "\n",
    "for i in range(N):\n",
    "    for j in range(N):\n",
    "        poi = np.zeros((M, M))\n",
    "        for a in range(M):\n",
    "            for b in range(M):\n",
    "                if i == a and j == b:\n",
    "                    poi[a, b] = 4\n",
    "                elif (i-j) == (a-b):\n",
    "                    poi[a, b] = 3\n",
    "                elif i > j and a > b:\n",
    "                    poi[a, b] = 2\n",
    "                elif i < j and a < b:\n",
    "                    poi[a, b] = 2\n",
    "\n",
    "        points[i, j] = np.sum(results * poi)\n",
    "        point_list.append((i, j, np.sum(results * poi)))"
   ]
  },
  {
   "cell_type": "code",
   "execution_count": 16,
   "id": "00fcee45",
   "metadata": {},
   "outputs": [
    {
     "data": {
      "image/png": "[encoded data removed]",
      "text/plain": [
       "<Figure size 640x480 with 2 Axes>"
      ]
     },
     "metadata": {},
     "output_type": "display_data"
    }
   ],
   "source": [
    "heatmap = plt.imshow(points, cmap='plasma', origin=\"lower\")\n",
    "cb = plt.colorbar(heatmap, label='Expected Points')\n",
    "\n",
    "font_props = {\"ha\": \"center\",\n",
    "              \"va\": \"center\",\n",
    "              \"color\": \"g\"}\n",
    "\n",
    "for i in range(N):\n",
    "    for j in range(N):\n",
    "        plt.text(j, i, f'{i} : {j}', **font_props)\n",
    "\n",
    "plt.show()"
   ]
  },
  {
   "cell_type": "code",
   "execution_count": 17,
   "id": "c6413473",
   "metadata": {},
   "outputs": [
    {
     "name": "stdout",
     "output_type": "stream",
     "text": [
      "1:0  1.278\n",
      "2:1  1.258\n",
      "3:2  1.191\n",
      "4:3  1.169\n",
      "2:0  1.159\n",
      "3:1  1.12\n",
      "4:2  1.083\n",
      "3:0  1.038\n",
      "4:1  1.012\n",
      "4:0  0.9693\n"
     ]
    }
   ],
   "source": [
    "point_list.sort(key=lambda x: x[-1], reverse=True)\n",
    "\n",
    "print(*[f\"{p[0]}:{p[1]}  {p[2]:.4}\" for p in point_list[:10]], sep=\"\\n\")"
   ]
  }
 ],
 "metadata": {
  "kernelspec": {
   "display_name": "Python 3",
   "language": "python",
   "name": "python3"
  },
  "language_info": {
   "codemirror_mode": {
    "name": "ipython",
    "version": 3
   },
   "file_extension": ".py",
   "mimetype": "text/x-python",
   "name": "python",
   "nbconvert_exporter": "python",
   "pygments_lexer": "ipython3",
   "version": "3.13.1"
  }
 },
 "nbformat": 4,
 "nbformat_minor": 5
}
